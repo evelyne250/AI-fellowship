{
 "cells": [
  {
   "cell_type": "markdown",
   "id": "7ec353f2",
   "metadata": {
    "ExecuteTime": {
     "end_time": "2021-06-01T18:41:39.306950Z",
     "start_time": "2021-06-01T18:41:39.302595Z"
    }
   },
   "source": [
    "### A simple example which encodes an array using LabelEncoder, OneHotEncoder, LabelBinarizer is shown below."
   ]
  },
  {
   "cell_type": "code",
   "execution_count": 4,
   "id": "4efb93cc",
   "metadata": {
    "ExecuteTime": {
     "end_time": "2021-06-01T20:05:50.074072Z",
     "start_time": "2021-06-01T20:05:48.758780Z"
    }
   },
   "outputs": [
    {
     "name": "stdout",
     "output_type": "stream",
     "text": [
      "Data:  ['cold' 'cold' 'warm' 'cold' 'hot' 'hot' 'warm' 'cold' 'warm' 'hot']\n",
      "Label Encoder: [0 0 2 0 1 1 2 0 2 1]\n",
      "OneHot Encoder: [[1. 0. 0.]\n",
      " [1. 0. 0.]\n",
      " [0. 0. 1.]\n",
      " [1. 0. 0.]\n",
      " [0. 1. 0.]\n",
      " [0. 1. 0.]\n",
      " [0. 0. 1.]\n",
      " [1. 0. 0.]\n",
      " [0. 0. 1.]\n",
      " [0. 1. 0.]]\n",
      "Label Binarizer: [[1 0 0]\n",
      " [1 0 0]\n",
      " [0 0 1]\n",
      " [1 0 0]\n",
      " [0 1 0]\n",
      " [0 1 0]\n",
      " [0 0 1]\n",
      " [1 0 0]\n",
      " [0 0 1]\n",
      " [0 1 0]]\n"
     ]
    }
   ],
   "source": [
    "from numpy import array\n",
    "from sklearn.preprocessing import LabelEncoder\n",
    "from sklearn.preprocessing import OneHotEncoder\n",
    "from sklearn.preprocessing import LabelBinarizer\n",
    "\n",
    "# define example\n",
    "data = ['cold', 'cold', 'warm', 'cold', 'hot', 'hot', 'warm', 'cold', \n",
    "'warm', 'hot']\n",
    "values = array(data)\n",
    "print (\"Data: \", values)\n",
    "# integer encode\n",
    "label_encoder = LabelEncoder()\n",
    "integer_encoded = label_encoder.fit_transform(values)\n",
    "print (\"Label Encoder:\" ,integer_encoded)\n",
    "\n",
    "# onehot encode\n",
    "onehot_encoder = OneHotEncoder(sparse=False)\n",
    "integer_encoded = integer_encoded.reshape(len(integer_encoded), 1)\n",
    "onehot_encoded = onehot_encoder.fit_transform(integer_encoded)\n",
    "print (\"OneHot Encoder:\", onehot_encoded)\n",
    "\n",
    "#Binary encode\n",
    "lb = LabelBinarizer()\n",
    "print (\"Label Binarizer:\", lb.fit_transform(values))"
   ]
  },
  {
   "cell_type": "code",
   "execution_count": null,
   "id": "ac8575fa",
   "metadata": {},
   "outputs": [],
   "source": []
  },
  {
   "cell_type": "code",
   "execution_count": null,
   "id": "ccf330ad",
   "metadata": {},
   "outputs": [],
   "source": []
  }
 ],
 "metadata": {
  "kernelspec": {
   "display_name": "Python 3",
   "language": "python",
   "name": "python3"
  },
  "language_info": {
   "codemirror_mode": {
    "name": "ipython",
    "version": 3
   },
   "file_extension": ".py",
   "mimetype": "text/x-python",
   "name": "python",
   "nbconvert_exporter": "python",
   "pygments_lexer": "ipython3",
   "version": "3.8.8"
  }
 },
 "nbformat": 4,
 "nbformat_minor": 5
}
