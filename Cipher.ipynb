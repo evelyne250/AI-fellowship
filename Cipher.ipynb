{
 "cells": [
  {
   "cell_type": "code",
   "execution_count": 4,
   "id": "9e0eb431",
   "metadata": {
    "ExecuteTime": {
     "end_time": "2021-06-07T07:54:44.423159Z",
     "start_time": "2021-06-07T07:54:44.412202Z"
    }
   },
   "outputs": [
    {
     "name": "stdout",
     "output_type": "stream",
     "text": [
      "OMG! this is so boring.\n"
     ]
    }
   ],
   "source": [
    "from __future__ import print_function\n",
    "\n",
    "# Dictionary for the code\n",
    "code = {'a':'n', 'b':'o', 'c':'p', 'd':'q', 'e':'r', 'f':'s', 'g':'t', 'h':'u', \n",
    "       'i':'v', 'j':'w', 'k':'x', 'l':'y', 'm':'z', 'n':'a', 'o':'b', 'p':'c', \n",
    "       'q':'d', 'r':'e', 's':'f', 't':'g', 'u':'h', 'v':'i', 'w':'j', 'x':'k',\n",
    "       'y':'l', 'z':'m', 'A':'N', 'B':'O', 'C':'P', 'D':'Q', 'E':'R', 'F':'S', \n",
    "       'G':'T', 'H':'U', 'I':'V', 'J':'W', 'K':'X', 'L':'Y', 'M':'Z', 'N':'A', \n",
    "       'O':'B', 'P':'C', 'Q':'D', 'R':'E', 'S':'F', 'T':'G', 'U':'H', 'V':'I', \n",
    "       'W':'J', 'X':'K', 'Y':'L', 'Z':'M'}\n",
    "\n",
    "# Method to decode a message\n",
    "def decode(msg, code):\n",
    "    result = \"\"\n",
    "    for letter in msg:\n",
    "        if letter in code.keys():\n",
    "            result += code[letter]\n",
    "        else:\n",
    "            result += letter\n",
    "    return result\n",
    "def cipher(msg):\n",
    "    pass\n",
    "\n",
    "# Message to decode\n",
    "msg = \"BZT! guvf vf fb obevat.\" # OMG! this is so boring.\n",
    "\n",
    "# Decode the message\n",
    "decoded = decode(msg, code)\n",
    "print(decoded)\n",
    "msg_text = ' welcome to AI fellowship'\n",
    "rencoding_text = cipher(msg_text)\n"
   ]
  },
  {
   "cell_type": "code",
   "execution_count": null,
   "id": "d62eddfe",
   "metadata": {},
   "outputs": [],
   "source": []
  }
 ],
 "metadata": {
  "kernelspec": {
   "display_name": "Python 3",
   "language": "python",
   "name": "python3"
  },
  "language_info": {
   "codemirror_mode": {
    "name": "ipython",
    "version": 3
   },
   "file_extension": ".py",
   "mimetype": "text/x-python",
   "name": "python",
   "nbconvert_exporter": "python",
   "pygments_lexer": "ipython3",
   "version": "3.7.10"
  }
 },
 "nbformat": 4,
 "nbformat_minor": 5
}
