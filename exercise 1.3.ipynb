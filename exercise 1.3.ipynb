{
 "cells": [
  {
   "cell_type": "code",
   "execution_count": 28,
   "metadata": {},
   "outputs": [
    {
     "name": "stdout",
     "output_type": "stream",
     "text": [
      "Python Exercises\n",
      "Java Exercises\n"
     ]
    }
   ],
   "source": [
    "#exercise 1\n",
    "\n",
    "\n",
    "def file_read(fname):\n",
    "        from itertools import islice\n",
    "        with open(fname, \"w\") as myfile:\n",
    "                myfile.write(\"Python Exercises\\n\")\n",
    "                myfile.write(\"Java Exercises\")\n",
    "        txt = open(fname)\n",
    "        print(txt.read())\n",
    "file_read('abc.txt')"
   ]
  },
  {
   "cell_type": "code",
   "execution_count": 30,
   "metadata": {},
   "outputs": [
    {
     "name": "stdout",
     "output_type": "stream",
     "text": [
      "ython Exercises\n",
      "Java Exercises\n"
     ]
    }
   ],
   "source": [
    "#exercise 2\n",
    "\n",
    "\n",
    "import sys\n",
    "import os\n",
    "def file_read_from_tail(fname,lines):\n",
    "        bufsize = 8192\n",
    "        fsize = os.stat(fname).st_size\n",
    "        iter = 0\n",
    "        with open(fname) as f:\n",
    "                if bufsize > fsize:\n",
    "                        bufsize = fsize-1\n",
    "                        data = []\n",
    "                        while True:\n",
    "                                iter +=1\n",
    "                                f.seek(fsize-bufsize*iter)\n",
    "                                data.extend(f.readlines())\n",
    "                                if len(data) >= lines or f.tell() == 0:\n",
    "                                        print(''.join(data[-lines:]))\n",
    "                                        break\n",
    "\n",
    "file_read_from_tail('abc.txt',2)"
   ]
  },
  {
   "cell_type": "code",
   "execution_count": null,
   "metadata": {},
   "outputs": [],
   "source": []
  }
 ],
 "metadata": {
  "kernelspec": {
   "display_name": "Python 3",
   "language": "python",
   "name": "python3"
  },
  "language_info": {
   "codemirror_mode": {
    "name": "ipython",
    "version": 3
   },
   "file_extension": ".py",
   "mimetype": "text/x-python",
   "name": "python",
   "nbconvert_exporter": "python",
   "pygments_lexer": "ipython3",
   "version": "3.8.5"
  }
 },
 "nbformat": 4,
 "nbformat_minor": 4
}
